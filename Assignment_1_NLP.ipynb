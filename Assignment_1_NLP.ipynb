{
  "nbformat": 4,
  "nbformat_minor": 0,
  "metadata": {
    "colab": {
      "name": "Assignment-1 NLP.ipynb",
      "provenance": [],
      "authorship_tag": "ABX9TyPRou68uIiXPtUkCU24nXN1",
      "include_colab_link": true
    },
    "kernelspec": {
      "name": "python3",
      "display_name": "Python 3"
    },
    "language_info": {
      "name": "python"
    }
  },
  "cells": [
    {
      "cell_type": "markdown",
      "metadata": {
        "id": "view-in-github",
        "colab_type": "text"
      },
      "source": [
        "<a href=\"https://colab.research.google.com/github/18K41A0247/NLP/blob/main/Assignment_1_NLP.ipynb\" target=\"_parent\"><img src=\"https://colab.research.google.com/assets/colab-badge.svg\" alt=\"Open In Colab\"/></a>"
      ]
    },
    {
      "cell_type": "markdown",
      "metadata": {
        "id": "smdmUSET2TvX"
      },
      "source": [
        "Are  you  fascinated  by  the  amount  of  text  data  available  on  the  internet?  Are  you looking  for  ways  to  work  with  this  text  data  but  aren’t  sure  where  to  begin? Machines, after all, recognize numbers, not the letters of our language. And that can be a tricky landscape to navigate in machine learning.\n",
        "\n",
        "Solving  an  NLP  problem  is  a  multi-stage  process.  We  need  to  clean  the  unstructured  text  data  first before we can even think about getting to the modeling stage. Cleaning the data consists of a few key steps:\n",
        "\n",
        "1. Split the above paragraph into sentences\n",
        "\n",
        "\n",
        "2. Split the above paragraph into words\n",
        "\n",
        "\n",
        "3. Find stem and lemma words for the given words?\n",
        "“cats\"\n",
        "\"trouble\"\n",
        "\"troubling\"\n",
        "\"troubled\"\n",
        "“having”\n",
        "“Corriendo”\n",
        "“at”\n",
        "“was”\n",
        "\n",
        "\n",
        "4. Find stop words from the given paragraph?\n",
        "“The NLTK library  is  one  of  the  oldest  and  most  commonly  used  Python  libraries  for \n",
        "Natural Language Processing. NLTK supports stop word removal, and you can find the list \n",
        "of stop words in the  corpus  module. To remove stop words from a sentence, you can divide \n",
        "your text into words and then remove the word if it exits in the list of stop words provided \n",
        "by NLTK.”\n",
        "\n",
        "\n",
        "5. From the above paragraph print frequency of each word using NLTK?"
      ]
    },
    {
      "cell_type": "code",
      "metadata": {
        "colab": {
          "base_uri": "https://localhost:8080/"
        },
        "id": "QsMgWPzP_nzL",
        "outputId": "2e53882d-0fb9-4ff4-859c-d8d39901fbb6"
      },
      "source": [
        "import nltk\n",
        "nltk.download('wordnet')\n",
        "nltk.download('punkt')"
      ],
      "execution_count": null,
      "outputs": [
        {
          "output_type": "stream",
          "name": "stdout",
          "text": [
            "[nltk_data] Downloading package wordnet to /root/nltk_data...\n",
            "[nltk_data]   Package wordnet is already up-to-date!\n",
            "[nltk_data] Downloading package punkt to /root/nltk_data...\n",
            "[nltk_data]   Unzipping tokenizers/punkt.zip.\n"
          ]
        },
        {
          "output_type": "execute_result",
          "data": {
            "text/plain": [
              "True"
            ]
          },
          "metadata": {},
          "execution_count": 17
        }
      ]
    },
    {
      "cell_type": "code",
      "metadata": {
        "colab": {
          "base_uri": "https://localhost:8080/"
        },
        "id": "Dr5bxnr979AM",
        "outputId": "e3ae2d3b-8b5f-4c08-f91f-14e95426d362"
      },
      "source": [
        "#1.Split the above paragraph into sentences\n",
        "\n",
        "d=\"Are you fascinated by the amount of text data available on the internet? Are you looking for ways to work with this text data but aren’t sure where to begin? Machines, after all, recognize numbers, not the letters of our language. And that can be a tricky landscape to navigate in machine learning.\"\n",
        "sentence = []\n",
        "r = d.split('?')\n",
        "for i in r:\n",
        "  sentence.extend(i.split(\".\"))\n",
        "print(sentence)"
      ],
      "execution_count": null,
      "outputs": [
        {
          "output_type": "stream",
          "name": "stdout",
          "text": [
            "['Are you fascinated by the amount of text data available on the internet', ' Are you looking for ways to work with this text data but aren’t sure where to begin', ' Machines, after all, recognize numbers, not the letters of our language', ' And that can be a tricky landscape to navigate in machine learning', '']\n"
          ]
        }
      ]
    },
    {
      "cell_type": "code",
      "metadata": {
        "colab": {
          "base_uri": "https://localhost:8080/"
        },
        "id": "ypeu9Off-xkd",
        "outputId": "6fd2439c-f994-4b55-ac08-35d634a0bdaa"
      },
      "source": [
        "#2.Split the above paragraph into words\n",
        "\n",
        "word = d.split( )\n",
        "print(word)"
      ],
      "execution_count": null,
      "outputs": [
        {
          "output_type": "stream",
          "name": "stdout",
          "text": [
            "['Are', 'you', 'fascinated', 'by', 'the', 'amount', 'of', 'text', 'data', 'available', 'on', 'the', 'internet?', 'Are', 'you', 'looking', 'for', 'ways', 'to', 'work', 'with', 'this', 'text', 'data', 'but', 'aren’t', 'sure', 'where', 'to', 'begin?', 'Machines,', 'after', 'all,', 'recognize', 'numbers,', 'not', 'the', 'letters', 'of', 'our', 'language.', 'And', 'that', 'can', 'be', 'a', 'tricky', 'landscape', 'to', 'navigate', 'in', 'machine', 'learning.']\n"
          ]
        }
      ]
    },
    {
      "cell_type": "code",
      "metadata": {
        "colab": {
          "base_uri": "https://localhost:8080/"
        },
        "id": "AgO0kNpc_AzD",
        "outputId": "218dca81-08c1-4d96-b658-8b0b5eab39ba"
      },
      "source": [
        "#3. Find stem and lemma words for the given words?\n",
        "\n",
        "nltk.download('wordnet')\n",
        "from nltk import PorterStemmer\n",
        "from nltk import WordNetLemmatizer\n",
        "data = [\"cats\",\"trouble\",\"troubling\",\"troubled\",\"having\",\"Corriendo\",\"at\",\"was\"]\n",
        "ps = PorterStemmer()\n",
        "print(\"Stem of given words is: \")\n",
        "for i in data:\n",
        "  print(\"stem of\",i,\"is:\", ps.stem(i))\n",
        "l = WordNetLemmatizer()\n",
        "print(\"Lemma of given words is: \")\n",
        "for word in data:\n",
        "  print(\"Lemma of\",word,\"is:\", l.lemmatize(word))"
      ],
      "execution_count": null,
      "outputs": [
        {
          "output_type": "stream",
          "name": "stdout",
          "text": [
            "[nltk_data] Downloading package wordnet to /root/nltk_data...\n",
            "[nltk_data]   Package wordnet is already up-to-date!\n",
            "Stem of given words is: \n",
            "stem of cats is: cat\n",
            "stem of trouble is: troubl\n",
            "stem of troubling is: troubl\n",
            "stem of troubled is: troubl\n",
            "stem of having is: have\n",
            "stem of Corriendo is: corriendo\n",
            "stem of at is: at\n",
            "stem of was is: wa\n",
            "Lemma of given words is: \n",
            "Lemma of cats is: cat\n",
            "Lemma of trouble is: trouble\n",
            "Lemma of troubling is: troubling\n",
            "Lemma of troubled is: troubled\n",
            "Lemma of having is: having\n",
            "Lemma of Corriendo is: Corriendo\n",
            "Lemma of at is: at\n",
            "Lemma of was is: wa\n"
          ]
        }
      ]
    },
    {
      "cell_type": "code",
      "metadata": {
        "colab": {
          "base_uri": "https://localhost:8080/"
        },
        "id": "tZLLkjMuAZM8",
        "outputId": "5415be07-8566-4268-e96e-052bb6841034"
      },
      "source": [
        "#4. Find stop words from the given paragraph?\n",
        "\n",
        "from nltk.corpus import stopwords\n",
        "nltk.download('stopwords')\n",
        "from nltk.tokenize import word_tokenize\n",
        "\n",
        "text = \"The NLTK library  is  one  of  the  oldest  and  most  commonly  used  Python  libraries  for  Natural Language Processing. NLTK supports stop word removal, and you can find the list of stop words in the  corpus  module. To remove stop words from a sentence, you can divide your text into words and then remove the word if it exits in the list of stop words provided by NLTK.\"\n",
        "text_tokens = word_tokenize(text)\n",
        "text_tokens = [word.lower() for word in text_tokens]\n",
        "stop_words = [word for word in text_tokens if word in stopwords.words(\"english\")]\n",
        "print(stop_words)"
      ],
      "execution_count": null,
      "outputs": [
        {
          "output_type": "stream",
          "name": "stdout",
          "text": [
            "[nltk_data] Downloading package stopwords to /root/nltk_data...\n",
            "[nltk_data]   Package stopwords is already up-to-date!\n",
            "['the', 'is', 'of', 'the', 'and', 'most', 'for', 'and', 'you', 'can', 'the', 'of', 'in', 'the', 'to', 'from', 'a', 'you', 'can', 'your', 'into', 'and', 'then', 'the', 'if', 'it', 'in', 'the', 'of', 'by']\n"
          ]
        }
      ]
    },
    {
      "cell_type": "code",
      "metadata": {
        "colab": {
          "base_uri": "https://localhost:8080/"
        },
        "id": "oK7SoBeKAm06",
        "outputId": "d9cb96b1-6852-446f-e26f-a6ecac46c304"
      },
      "source": [
        "#5. From the above paragraph print frequency of each word using NLTK?\n",
        "\n",
        "freq = {}\n",
        "for word in text_tokens:\n",
        "  freq[word] = freq.get(word, 0) + 1\n",
        "print(freq)"
      ],
      "execution_count": null,
      "outputs": [
        {
          "output_type": "stream",
          "name": "stdout",
          "text": [
            "{'the': 6, 'nltk': 3, 'library': 1, 'is': 1, 'one': 1, 'of': 3, 'oldest': 1, 'and': 3, 'most': 1, 'commonly': 1, 'used': 1, 'python': 1, 'libraries': 1, 'for': 1, 'natural': 1, 'language': 1, 'processing': 1, '.': 3, 'supports': 1, 'stop': 4, 'word': 2, 'removal': 1, ',': 2, 'you': 2, 'can': 2, 'find': 1, 'list': 2, 'words': 4, 'in': 2, 'corpus': 1, 'module': 1, 'to': 1, 'remove': 2, 'from': 1, 'a': 1, 'sentence': 1, 'divide': 1, 'your': 1, 'text': 1, 'into': 1, 'then': 1, 'if': 1, 'it': 1, 'exits': 1, 'provided': 1, 'by': 1}\n"
          ]
        }
      ]
    }
  ]
}